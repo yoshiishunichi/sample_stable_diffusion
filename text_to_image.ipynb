{
  "cells": [
    {
      "cell_type": "code",
      "execution_count": null,
      "metadata": {
        "id": "24G2wWosR_rW"
      },
      "outputs": [],
      "source": [
        "!pip install diffusers transformers ftfy"
      ]
    },
    {
      "cell_type": "code",
      "source": [
        "# ここに Hugging Face で発行されたトークンを入れてください。\n",
        "USER_ACCESS_TOKEN=\"dummy_access_token\"\n",
        "\n",
        "from google.colab import drive\n",
        "drive.mount('/content/drive')\n",
        "\n",
        "from diffusers import StableDiffusionPipeline\n",
        "\n",
        "pipe = StableDiffusionPipeline.from_pretrained(\"CompVis/stable-diffusion-v1-4\", use_auth_token=USER_ACCESS_TOKEN)\n",
        "pipe.safety_checker = lambda images, **kwargs: (images, False)\n",
        "pipe.to(\"cuda\")"
      ],
      "metadata": {
        "id": "LYh8EjAYBt_L"
      },
      "execution_count": null,
      "outputs": []
    },
    {
      "cell_type": "code",
      "execution_count": null,
      "metadata": {
        "id": "KQoznLbUTJH5"
      },
      "outputs": [],
      "source": [
        "import os\n",
        "\n",
        "prompt = \"cat\"\n",
        "\n",
        "dirName = \"/content/drive/MyDrive/images/\" + prompt\n",
        "\n",
        "os.mkdir(dirName)\n",
        "\n",
        "for i in range(100):\n",
        "    image = pipe(prompt)[\"sample\"][0]\n",
        "    image.save(dirName + \"/image-\" +  str(i) + \".png\")"
      ]
    }
  ],
  "metadata": {
    "accelerator": "GPU",
    "colab": {
      "collapsed_sections": [],
      "toc_visible": true,
      "provenance": [],
      "private_outputs": true
    },
    "gpuClass": "standard",
    "kernelspec": {
      "display_name": "Python 3",
      "name": "python3"
    }
  },
  "nbformat": 4,
  "nbformat_minor": 0
}