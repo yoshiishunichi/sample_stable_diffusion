{
  "cells": [
    {
      "cell_type": "code",
      "execution_count": null,
      "metadata": {
        "id": "24G2wWosR_rW"
      },
      "outputs": [],
      "source": [
        "!pip install diffusers transformers ftfy"
      ]
    },
    {
      "cell_type": "code",
      "source": [
        "# ここに Hugging Face で発行されたトークンを入れてください。\n",
        "USER_ACCESS_TOKEN=\"dummy_access_token\"\n",
        "\n",
        "from google.colab import drive\n",
        "drive.mount('/content/drive')\n",
        "\n",
        "from diffusers import StableDiffusionPipeline\n",
        "\n",
        "pipe = StableDiffusionPipeline.from_pretrained(\"runwayml/stable-diffusion-v1-5\", use_auth_token=USER_ACCESS_TOKEN)\n",
        "pipe.to(\"cuda\")"
      ],
      "metadata": {
        "id": "LYh8EjAYBt_L"
      },
      "execution_count": null,
      "outputs": []
    },
    {
      "cell_type": "code",
      "execution_count": null,
      "metadata": {
        "id": "KQoznLbUTJH5"
      },
      "outputs": [],
      "source": [
        "import os\n",
        "import shutil\n",
        "\n",
        "prompt = \"cat\"\n",
        "\n",
        "dirName = \"/content/drive/MyDrive/images/\" + prompt\n",
        "\n",
        "# 存在チェック\n",
        "if os.path.isdir(dirName):\n",
        "    # 既存のフォルダを削除して新規作成\n",
        "    shutil.rmtree(dirName)\n",
        "    os.mkdir(dirName)\n",
        "else:\n",
        "    # 新規作成\n",
        "    print(\"ディレクトリが存在しません\")\n",
        "    os.mkdir(dirName)\n",
        "\n",
        "for i in range(100):\n",
        "    image = pipe(prompt).images[0]\n",
        "    image.save(dirName + \"/image-\" +  str(i) + \".png\")"
      ]
    }
  ],
  "metadata": {
    "accelerator": "GPU",
    "colab": {
      "toc_visible": true,
      "provenance": [],
      "private_outputs": true
    },
    "gpuClass": "standard",
    "kernelspec": {
      "display_name": "Python 3",
      "name": "python3"
    }
  },
  "nbformat": 4,
  "nbformat_minor": 0
}